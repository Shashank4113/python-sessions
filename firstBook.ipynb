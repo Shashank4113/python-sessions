{
 "metadata": {
  "language_info": {
   "codemirror_mode": {
    "name": "ipython",
    "version": 3
   },
   "file_extension": ".py",
   "mimetype": "text/x-python",
   "name": "python",
   "nbconvert_exporter": "python",
   "pygments_lexer": "ipython3",
   "version": "3.9.5"
  },
  "orig_nbformat": 4,
  "kernelspec": {
   "name": "python3",
   "display_name": "Python 3.9.5 64-bit ('3.9')"
  },
  "interpreter": {
   "hash": "7812ea015bdcee6f23a998adcdd2ef97c151c0c241b7b7070987d9313e41299d"
  }
 },
 "nbformat": 4,
 "nbformat_minor": 2,
 "cells": [
  {
   "cell_type": "code",
   "execution_count": 7,
   "metadata": {},
   "outputs": [],
   "source": [
    "# Importing Modules ...\n",
    "import pandas as pd"
   ]
  },
  {
   "cell_type": "code",
   "execution_count": 13,
   "metadata": {},
   "outputs": [
    {
     "output_type": "stream",
     "name": "stdout",
     "text": [
      "0     shashank\n1       chinna\n2    rakshitha\n3          jay\ndtype: object\n"
     ]
    }
   ],
   "source": [
    "listOne = ['shashank','chinna','rakshitha','jay']\n",
    "dfOne = pd.Series(listOne)\n",
    "print(dfOne)"
   ]
  },
  {
   "cell_type": "code",
   "execution_count": 18,
   "metadata": {},
   "outputs": [
    {
     "output_type": "stream",
     "name": "stdout",
     "text": [
      "name_1     shashank\nname_2       chinna\nname_3    rakshitha\nname_4          jay\ndtype: object\nsession_1         Intro\nsession_2    Data Types\nsession_3     Operators\ndtype: object\n"
     ]
    }
   ],
   "source": [
    "dfTwo = pd.Series(listOne, index = [\"name_1\", \"name_2\", \"name_3\", \"name_4\"])\n",
    "print(dfTwo)\n",
    "dictOne = {\"session_1\":\"Intro\", \"session_2\":\"Data Types\",\"session_3\":\"Operators\"}\n",
    "dfThree = pd.Series(dictOne)\n",
    "print(dfThree)"
   ]
  },
  {
   "cell_type": "code",
   "execution_count": 47,
   "metadata": {},
   "outputs": [
    {
     "output_type": "stream",
     "name": "stdout",
     "text": [
      "       names  scores\n0     jayesh     100\n2  rakshitha     100\n"
     ]
    }
   ],
   "source": [
    "dataOne = {\"names\": [\"jayesh\",\"chinna\",\"rakshitha\"], \"scores\": [100,100,100]}\n",
    "dfFour = pd.DataFrame(dataOne)\n",
    "# print(dfFour[\"names\"][0:2]) \n",
    "print(dfFour.loc[[0,2]]) # location row loc[0:1] "
   ]
  },
  {
   "cell_type": "code",
   "execution_count": 49,
   "metadata": {},
   "outputs": [
    {
     "output_type": "stream",
     "name": "stdout",
     "text": [
      "(973, 25)\n"
     ]
    }
   ],
   "source": [
    "dfFive = pd.read_csv('lung21.csv')\n",
    "# print(dfFive.loc[0])\n",
    "# print(dfFive.head()) # First five rows\n",
    "# print(dfFive.tail()) # Last five rows\n",
    "# print(dfFive.info())\n",
    "# print(dfFive.shape)"
   ]
  },
  {
   "cell_type": "code",
   "execution_count": null,
   "metadata": {},
   "outputs": [],
   "source": []
  }
 ]
}